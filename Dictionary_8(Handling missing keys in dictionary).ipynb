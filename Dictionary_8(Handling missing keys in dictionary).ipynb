{
 "cells": [
  {
   "cell_type": "code",
   "execution_count": 22,
   "metadata": {},
   "outputs": [
    {
     "name": "stdout",
     "output_type": "stream",
     "text": [
      "The value associated with 'c' is : \n",
      "not found\n"
     ]
    }
   ],
   "source": [
    "# Python code to demonstrate Dictionary and\n",
    "# missing value error\n",
    "\n",
    "# initializing Dictionary\n",
    "d = { 'a' : 1 , 'b' : 2 }\n",
    "\n",
    "# trying to output value of absent key\n",
    "print (\"The value associated with 'c' is : \")\n",
    "print(d.get('c','not found'))\n"
   ]
  }
 ],
 "metadata": {
  "kernelspec": {
   "display_name": "Python 3",
   "language": "python",
   "name": "python3"
  },
  "language_info": {
   "codemirror_mode": {
    "name": "ipython",
    "version": 3
   },
   "file_extension": ".py",
   "mimetype": "text/x-python",
   "name": "python",
   "nbconvert_exporter": "python",
   "pygments_lexer": "ipython3",
   "version": "3.7.6"
  }
 },
 "nbformat": 4,
 "nbformat_minor": 4
}
