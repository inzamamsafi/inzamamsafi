{
 "cells": [
  {
   "cell_type": "code",
   "execution_count": 56,
   "metadata": {},
   "outputs": [
    {
     "name": "stdout",
     "output_type": "stream",
     "text": [
      "Python is great and Java also\n"
     ]
    }
   ],
   "source": [
    "from collections import Counter\n",
    "\n",
    "def remov_duplicates(input):\n",
    "\n",
    "\t# split input string separated by space\n",
    "\tinput = input.split(\" \")\n",
    "\n",
    "\n",
    "\tUniqW = Counter(input)\n",
    "\n",
    "\ts = \" \".join(UniqW.keys())\n",
    "\tprint (s)\n",
    "\n",
    "# Driver program\n",
    "if __name__ == \"__main__\":\n",
    "\tinput = 'Python is great and Java is also great'\n",
    "\tremov_duplicates(input)\n"
   ]
  }
 ],
 "metadata": {
  "kernelspec": {
   "display_name": "Python 3",
   "language": "python",
   "name": "python3"
  },
  "language_info": {
   "codemirror_mode": {
    "name": "ipython",
    "version": 3
   },
   "file_extension": ".py",
   "mimetype": "text/x-python",
   "name": "python",
   "nbconvert_exporter": "python",
   "pygments_lexer": "ipython3",
   "version": "3.7.6"
  }
 },
 "nbformat": 4,
 "nbformat_minor": 4
}
