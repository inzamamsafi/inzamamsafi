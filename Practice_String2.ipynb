{
  "nbformat": 4,
  "nbformat_minor": 0,
  "metadata": {
    "colab": {
      "name": "Practice_String2.ipynb",
      "provenance": [],
      "authorship_tag": "ABX9TyNmXJ3xTUoMZjtl0LS9RhVZ",
      "include_colab_link": true
    },
    "kernelspec": {
      "name": "python3",
      "display_name": "Python 3"
    },
    "language_info": {
      "name": "python"
    }
  },
  "cells": [
    {
      "cell_type": "markdown",
      "metadata": {
        "id": "view-in-github",
        "colab_type": "text"
      },
      "source": [
        "<a href=\"https://colab.research.google.com/github/inzamamsafi/inzamamsafi/blob/main/Practice_String2.ipynb\" target=\"_parent\"><img src=\"https://colab.research.google.com/assets/colab-badge.svg\" alt=\"Open In Colab\"/></a>"
      ]
    },
    {
      "cell_type": "code",
      "metadata": {
        "colab": {
          "base_uri": "https://localhost:8080/"
        },
        "id": "b5vilVGQB-sK",
        "outputId": "1f4ef67b-e1fc-462b-b571-34a9e4e1ec46"
      },
      "source": [
        "str1= input()\n",
        "\n",
        "j= int(input())\n",
        "print(str1.replace(str1[j], '', 1))\n",
        "\n"
      ],
      "execution_count": null,
      "outputs": [
        {
          "output_type": "stream",
          "text": [
            "GeeksForGeeks\n",
            "2\n",
            "GeksForGeeks\n"
          ],
          "name": "stdout"
        }
      ]
    },
    {
      "cell_type": "markdown",
      "metadata": {
        "id": "rqqyWBUgBCya"
      },
      "source": [
        "method2\n"
      ]
    },
    {
      "cell_type": "code",
      "metadata": {
        "colab": {
          "base_uri": "https://localhost:8080/"
        },
        "id": "acFmqxZoBEwE",
        "outputId": "5e5e0340-839d-4906-9b25-a11d7ce9b617"
      },
      "source": [
        "# Python code to demonstrate\n",
        "# method to remove i'th character\n",
        "# Naive Method\n",
        "\n",
        "# Initializing String\n",
        "test_str = \"GeeksForGeeks\"\n",
        "\n",
        "# Printing original string\n",
        "print (\"The original string is : \" + test_str)\n",
        "\n",
        "# Removing char at pos 3\n",
        "# using loop\n",
        "new_str = \"\"\n",
        "\n",
        "for i in range(len(test_str)):\n",
        "\tif i != 0:\n",
        "\t\tnew_str = new_str + test_str[i]\n",
        "\n",
        "# Printing string after removal\n",
        "print (\"The string after removal of i'th character : \" + new_str)\n"
      ],
      "execution_count": null,
      "outputs": [
        {
          "output_type": "stream",
          "text": [
            "The original string is : GeeksForGeeks\n",
            "The string after removal of i'th character : eeksForGeeks\n"
          ],
          "name": "stdout"
        }
      ]
    }
  ]
}