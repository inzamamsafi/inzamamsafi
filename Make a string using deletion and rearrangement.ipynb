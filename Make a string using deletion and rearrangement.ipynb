{
 "cells": [
  {
   "cell_type": "code",
   "execution_count": null,
   "metadata": {},
   "outputs": [],
   "source": [
    "#Given two strings, find if we can make first string from second by deleting some characters from second and rearranging remaining characters.\n",
    "\n",
    "#Examples:\n",
    "\n",
    "#Input : s1 = ABHISHEKsinGH\n",
    "#     : s2 = gfhfBHkooIHnfndSHEKsiAnG\n",
    "#Output : Possible"
   ]
  },
  {
   "cell_type": "code",
   "execution_count": 9,
   "metadata": {},
   "outputs": [
    {
     "name": "stdout",
     "output_type": "stream",
     "text": [
      "Counter({'H': 3, 'A': 1, 'B': 1, 'I': 1, 'S': 1, 'E': 1, 'K': 1, 's': 1, 'i': 1, 'n': 1, 'G': 1})\n",
      "Counter({'f': 3, 'H': 3, 'n': 3, 'o': 2, 'g': 1, 'h': 1, 'B': 1, 'k': 1, 'I': 1, 'd': 1, 'S': 1, 'E': 1, 'K': 1, 's': 1, 'i': 1, 'A': 1, 'G': 1})\n",
      "Counter({'H': 3, 'A': 1, 'B': 1, 'I': 1, 'S': 1, 'E': 1, 'K': 1, 's': 1, 'i': 1, 'n': 1, 'G': 1})\n",
      "possible\n"
     ]
    }
   ],
   "source": [
    "from collections import Counter\n",
    "s1 = 'ABHISHEKsinGH'\n",
    "s2 = 'gfhfBHkooIHnfndSHEKsiAnG'\n",
    "\n",
    "d1=Counter(s1)\n",
    "print(d1)\n",
    "d2=Counter(s2)\n",
    "print(d2)\n",
    "\n",
    "final= d1 & d2\n",
    "print(final)\n",
    "if final==d1:\n",
    "    print(\"possible\")\n",
    "else:\n",
    "    print(\"not possible\")"
   ]
  }
 ],
 "metadata": {
  "kernelspec": {
   "display_name": "Python 3",
   "language": "python",
   "name": "python3"
  },
  "language_info": {
   "codemirror_mode": {
    "name": "ipython",
    "version": 3
   },
   "file_extension": ".py",
   "mimetype": "text/x-python",
   "name": "python",
   "nbconvert_exporter": "python",
   "pygments_lexer": "ipython3",
   "version": "3.7.6"
  }
 },
 "nbformat": 4,
 "nbformat_minor": 4
}
