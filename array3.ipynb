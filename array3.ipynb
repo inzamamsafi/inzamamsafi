{
  "nbformat": 4,
  "nbformat_minor": 0,
  "metadata": {
    "colab": {
      "name": "array3.ipynb",
      "provenance": [],
      "authorship_tag": "ABX9TyM2WQC//7dIdNggVo84EieY",
      "include_colab_link": true
    },
    "kernelspec": {
      "name": "python3",
      "display_name": "Python 3"
    },
    "language_info": {
      "name": "python"
    }
  },
  "cells": [
    {
      "cell_type": "markdown",
      "metadata": {
        "id": "view-in-github",
        "colab_type": "text"
      },
      "source": [
        "<a href=\"https://colab.research.google.com/github/inzamamsafi/inzamamsafi/blob/main/array3.ipynb\" target=\"_parent\"><img src=\"https://colab.research.google.com/assets/colab-badge.svg\" alt=\"Open In Colab\"/></a>"
      ]
    },
    {
      "cell_type": "code",
      "metadata": {
        "colab": {
          "base_uri": "https://localhost:8080/"
        },
        "id": "9_NJB7zqkNDT",
        "outputId": "b9973f5c-a385-46c8-c40b-b37705dd5d20"
      },
      "source": [
        "# Python program using the List\n",
        "# slicing approch to rotate the array\n",
        "def rotateList(arr,d,n):\n",
        "  arr[:]=arr[d:n]+arr[0:d]\n",
        "  return arr\n",
        "# Driver function to test above function\n",
        "arr = [1, 2, 3, 4, 5, 6]\n",
        "print(arr)\n",
        "print(\"Rotated list is\")\n",
        "print(rotateList(arr,2,len(arr)))\n",
        "type(arr)\n",
        "# this code is contributed by virusbuddah\n"
      ],
      "execution_count": 3,
      "outputs": [
        {
          "output_type": "stream",
          "text": [
            "[1, 2, 3, 4, 5, 6]\n",
            "Rotated list is\n",
            "[3, 4, 5, 6, 1, 2]\n"
          ],
          "name": "stdout"
        },
        {
          "output_type": "execute_result",
          "data": {
            "text/plain": [
              "list"
            ]
          },
          "metadata": {
            "tags": []
          },
          "execution_count": 3
        }
      ]
    }
  ]
}