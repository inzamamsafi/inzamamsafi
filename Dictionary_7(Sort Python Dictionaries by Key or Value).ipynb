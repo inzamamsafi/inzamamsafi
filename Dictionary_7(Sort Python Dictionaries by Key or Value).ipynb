{
 "cells": [
  {
   "cell_type": "code",
   "execution_count": 35,
   "metadata": {},
   "outputs": [
    {
     "name": "stdout",
     "output_type": "stream",
     "text": [
      "Task 1:-\n",
      "\n",
      "Keys are\n",
      "{2: 56, 1: 2, 5: 12, 4: 24, 6: 18, 3: 323}\n",
      "[(1, 2), (5, 12), (6, 18), (4, 24), (2, 56), (3, 323)]\n"
     ]
    }
   ],
   "source": [
    "#sorting by values\n",
    "\n",
    "from collections import OrderedDict\n",
    "# Function calling\n",
    "def dictionairy():\n",
    "    # Declare hash function\t\n",
    "    key_value ={}\t\n",
    "\n",
    "    # Initializing value\n",
    "    key_value[2] = 56\t\n",
    "    key_value[1] = 2\n",
    "    key_value[5] = 12\n",
    "    key_value[4] = 24\n",
    "    key_value[6] = 18\t\n",
    "    key_value[3] = 323\n",
    "\n",
    "    print (\"Task 1:-\\n\")\n",
    "    print (\"Keys are\")\n",
    "    print(key_value)\n",
    "\n",
    "    dict1 = sorted(key_value.items(), key=lambda x: x[1])\n",
    "    print(dict1)\n",
    "\n",
    "dictionairy()\n"
   ]
  },
  {
   "cell_type": "code",
   "execution_count": 29,
   "metadata": {},
   "outputs": [
    {
     "name": "stdout",
     "output_type": "stream",
     "text": [
      "Task 1:-\n",
      "\n",
      "Keys are\n",
      "{2: 56, 1: 2, 5: 12, 4: 24, 6: 18, 3: 323}\n",
      "[(1, 2), (2, 56), (3, 323), (4, 24), (5, 12), (6, 18)]\n"
     ]
    }
   ],
   "source": [
    "#sorting by keys\n",
    "\n",
    "#sorting by values\n",
    "\n",
    "from collections import OrderedDict\n",
    "# Function calling\n",
    "def dictionairy():\n",
    "    # Declare hash function\t\n",
    "    key_value ={}\t\n",
    "\n",
    "    # Initializing value\n",
    "    key_value[2] = 56\t\n",
    "    key_value[1] = 2\n",
    "    key_value[5] = 12\n",
    "    key_value[4] = 24\n",
    "    key_value[6] = 18\t\n",
    "    key_value[3] = 323\n",
    "\n",
    "    print (\"Task 1:-\\n\")\n",
    "    print (\"Keys are\")\n",
    "    print(key_value)\n",
    "\n",
    "    dict1 = sorted(key_value.items())\n",
    "    print(dict1)\n",
    "\n",
    "dictionairy()\n"
   ]
  }
 ],
 "metadata": {
  "kernelspec": {
   "display_name": "Python 3",
   "language": "python",
   "name": "python3"
  },
  "language_info": {
   "codemirror_mode": {
    "name": "ipython",
    "version": 3
   },
   "file_extension": ".py",
   "mimetype": "text/x-python",
   "name": "python",
   "nbconvert_exporter": "python",
   "pygments_lexer": "ipython3",
   "version": "3.7.6"
  }
 },
 "nbformat": 4,
 "nbformat_minor": 4
}
