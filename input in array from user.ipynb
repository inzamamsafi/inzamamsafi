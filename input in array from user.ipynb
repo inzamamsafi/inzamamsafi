{
 "cells": [
  {
   "cell_type": "code",
   "execution_count": 3,
   "metadata": {},
   "outputs": [
    {
     "name": "stdout",
     "output_type": "stream",
     "text": [
      "enter the size of array3\n",
      "enter the value1\n",
      "enter the value2\n",
      "enter the value2\n",
      "array('i', [1, 2, 2])\n"
     ]
    },
    {
     "data": {
      "text/plain": [
       "array.array"
      ]
     },
     "execution_count": 3,
     "metadata": {},
     "output_type": "execute_result"
    }
   ],
   "source": [
    "#taking the input from the user\n",
    "import array as arr\n",
    "arr=arr.array('i',[])\n",
    "size=int(input(\"enter the size of array\"))\n",
    "\n",
    "for i in range(size):\n",
    "    x=int(input(\"enter the value\"))\n",
    "    arr.append(x)\n",
    "print(arr)"
   ]
  }
 ],
 "metadata": {
  "kernelspec": {
   "display_name": "Python 3",
   "language": "python",
   "name": "python3"
  },
  "language_info": {
   "codemirror_mode": {
    "name": "ipython",
    "version": 3
   },
   "file_extension": ".py",
   "mimetype": "text/x-python",
   "name": "python",
   "nbconvert_exporter": "python",
   "pygments_lexer": "ipython3",
   "version": "3.7.6"
  }
 },
 "nbformat": 4,
 "nbformat_minor": 4
}
