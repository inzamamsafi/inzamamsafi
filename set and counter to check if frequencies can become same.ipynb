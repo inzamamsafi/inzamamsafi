{
 "cells": [
  {
   "cell_type": "code",
   "execution_count": 3,
   "metadata": {},
   "outputs": [],
   "source": [
    "#Given a string which contains lower alphabetic characters, \n",
    "#we need to remove at most one character from this string in such a way \n",
    "#that frequency of each distinct character becomes same in the string.\n",
    "\n",
    "#Examples:\n",
    "\n",
    "#Input  : str = “xyyz”\n",
    "#Output : Yes\n",
    "#We can remove character ’y’ from above string to make the frequency of each character same."
   ]
  },
  {
   "cell_type": "code",
   "execution_count": 16,
   "metadata": {},
   "outputs": [
    {
     "name": "stdout",
     "output_type": "stream",
     "text": [
      "Counter({'y': 2, 'x': 1, 'z': 1})\n",
      "[1, 2]\n",
      "Yes\n",
      "2\n",
      "1\n"
     ]
    }
   ],
   "source": [
    "from collections import Counter\n",
    "s1 = 'xyyz'\n",
    "d1=Counter(s1)\n",
    "print(d1)\n",
    "same=list(set(d1.values()))\n",
    "print(same)\n",
    "if len(same)>2:\n",
    "        print('No')\n",
    "elif len (same)==2 and same[1]-same[0]>1:\n",
    "        print('No')\n",
    "else:\n",
    "        print('Yes') \n",
    "        \n",
    "print(same[1])\n",
    "print(same[0])\n"
   ]
  },
  {
   "cell_type": "code",
   "execution_count": null,
   "metadata": {},
   "outputs": [],
   "source": []
  }
 ],
 "metadata": {
  "kernelspec": {
   "display_name": "Python 3",
   "language": "python",
   "name": "python3"
  },
  "language_info": {
   "codemirror_mode": {
    "name": "ipython",
    "version": 3
   },
   "file_extension": ".py",
   "mimetype": "text/x-python",
   "name": "python",
   "nbconvert_exporter": "python",
   "pygments_lexer": "ipython3",
   "version": "3.7.6"
  }
 },
 "nbformat": 4,
 "nbformat_minor": 4
}
