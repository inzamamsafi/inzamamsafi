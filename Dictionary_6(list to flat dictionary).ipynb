{
 "cells": [
  {
   "cell_type": "markdown",
   "metadata": {},
   "source": [
    "# list to flat dictionary"
   ]
  },
  {
   "cell_type": "code",
   "execution_count": null,
   "metadata": {
    "scrolled": true
   },
   "outputs": [],
   "source": [
    "#first understanding how the zip function works\n",
    "\n",
    "number_list = [1, 2, 3]\n",
    "str_list = ['one', 'two', 'three']\n",
    "\n",
    "# No iterables are passed\n",
    "result = zip()\n",
    "\n",
    "# Converting iterator to list\n",
    "result_list = list(result)\n",
    "print(result_list)\n",
    "\n",
    "# Two iterables are passed\n",
    "result = dict(zip(number_list, str_list))\n",
    "\n",
    "# Converting iterator to set\n",
    "\n",
    "print(result)"
   ]
  },
  {
   "cell_type": "code",
   "execution_count": 12,
   "metadata": {},
   "outputs": [
    {
     "name": "stdout",
     "output_type": "stream",
     "text": [
      "The original dictionary is : {'month': [1, 2, 3, 4, 5], 'name': ['Jan', 'Feb', 'March', 'april', 'mau']}\n",
      "Flattened dictionary : {1: 'Jan', 2: 'Feb', 3: 'March', 4: 'april', 5: 'mau'}\n"
     ]
    }
   ],
   "source": [
    "\n",
    "test_dict = {'month' : [1, 2, 3, 4, 5], 'name' : ['Jan', 'Feb', 'March', 'april','may']}\n",
    "\n",
    "# printing original dictionary\n",
    "print(\"The original dictionary is : \" + str(test_dict))\n",
    "\n",
    "Final_result = dict(zip(test_dict['month'], test_dict['name']))\n",
    "\n",
    "# printing result\n",
    "print(\"Flattened dictionary : \" + str(Final_result))\n"
   ]
  }
 ],
 "metadata": {
  "kernelspec": {
   "display_name": "Python 3",
   "language": "python",
   "name": "python3"
  },
  "language_info": {
   "codemirror_mode": {
    "name": "ipython",
    "version": 3
   },
   "file_extension": ".py",
   "mimetype": "text/x-python",
   "name": "python",
   "nbconvert_exporter": "python",
   "pygments_lexer": "ipython3",
   "version": "3.9.1"
  }
 },
 "nbformat": 4,
 "nbformat_minor": 4
}
